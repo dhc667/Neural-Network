{
 "cells": [
  {
   "cell_type": "code",
   "execution_count": 7,
   "metadata": {},
   "outputs": [
    {
     "name": "stdout",
     "output_type": "stream",
     "text": [
      "True\n",
      "dict_keys(['image', 'label'])\n"
     ]
    }
   ],
   "source": [
    "from Network import Network, Non_Linearity_Functions, Optimizers\n",
    "import json\n",
    "\n",
    "net = Network([28*28, 30, 10], non_linearity_function=Non_Linearity_Functions.sigmoid)\n",
    "with open('./data/mnist_handwritten_train.json', 'r') as f:\n",
    "    data = json.loads(f.read())\n",
    "\n",
    "print(len(data[0]['image']) == 28*28)\n",
    "print(data[0].keys())"
   ]
  },
  {
   "cell_type": "code",
   "execution_count": 8,
   "metadata": {},
   "outputs": [],
   "source": [
    "import numpy as np\n",
    "\n",
    "train = []\n",
    "\n",
    "for pair in data:\n",
    "    train += [(np.array(pair['image']), np.array([(1 if i == pair['label'] else 0) for i in range(10)]))]\n",
    "    "
   ]
  },
  {
   "cell_type": "code",
   "execution_count": null,
   "metadata": {},
   "outputs": [
    {
     "name": "stderr",
     "output_type": "stream",
     "text": [
      "/home/dhc/Desktop/CC/Programming/Projects/Handwritten-Number-Recognition/sigmoid.py:4: RuntimeWarning: overflow encountered in exp\n",
      "  return 1/(1 + np.exp(-x))\n"
     ]
    },
    {
     "name": "stdout",
     "output_type": "stream",
     "text": [
      "Epoch 1 Completed\n",
      "Epoch 2 Completed\n"
     ]
    }
   ],
   "source": [
    "net.SGD_train(train, 30, 3, optimizer=Optimizers.constant_eta, sgd_sample_replacement=False)"
   ]
  },
  {
   "cell_type": "code",
   "execution_count": null,
   "metadata": {},
   "outputs": [],
   "source": [
    "with open('./data/mnist_handwritten_test.json', 'r') as f:\n",
    "    data = json.loads(f.read())\n",
    "\n",
    "test = []\n",
    "\n",
    "for pair in data:\n",
    "    test += [(np.array(pair['image']), np.array([(1 if i == pair['label'] else 0) for i in range(10)]))]"
   ]
  },
  {
   "cell_type": "code",
   "execution_count": null,
   "metadata": {},
   "outputs": [
    {
     "name": "stdout",
     "output_type": "stream",
     "text": [
      "0.1705\n"
     ]
    }
   ],
   "source": [
    "def get_number(output: np.ndarray):\n",
    "    n = 0\n",
    "    max = output[0]\n",
    "    for i, val in enumerate(output):\n",
    "        if val > max: \n",
    "            n = i\n",
    "            max = val\n",
    "        \n",
    "    return n\n",
    "\n",
    "c = 0\n",
    "t = 0\n",
    "for input, output in test:\n",
    "    if get_number(net.eval(input)) == get_number(output):\n",
    "        c+= 1\n",
    "    t+= 1\n",
    "\n",
    "print(c / t)\n",
    "\n",
    "c = 0\n",
    "t = 0\n",
    "for input, output in train:\n",
    "    if get_number(net.eval(input)) == get_number(output):\n",
    "        c+= 1\n",
    "    t+= 1\n",
    "\n",
    "print(c / t)\n"
   ]
  }
 ],
 "metadata": {
  "kernelspec": {
   "display_name": "Python 3",
   "language": "python",
   "name": "python3"
  },
  "language_info": {
   "codemirror_mode": {
    "name": "ipython",
    "version": 3
   },
   "file_extension": ".py",
   "mimetype": "text/x-python",
   "name": "python",
   "nbconvert_exporter": "python",
   "pygments_lexer": "ipython3",
   "version": "3.10.4"
  }
 },
 "nbformat": 4,
 "nbformat_minor": 2
}
